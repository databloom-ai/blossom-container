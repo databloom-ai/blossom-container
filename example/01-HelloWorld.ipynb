{
 "cells": [
  {
   "cell_type": "markdown",
   "id": "11c6578d-fc63-49e8-ac2f-0b19f947e976",
   "metadata": {},
   "source": [
    "# Hello World (WordCount) Example\n",
    "\n",
    "The required dependencies can be imported by command or pom file\n",
    "\n",
    "```bash\n",
    "%maven org.apache.wayang:wayang-core:0.7.1\n",
    "```\n",
    "or \n",
    "```xml\n",
    "%%loadFromPOM\n",
    "<dependency>\n",
    "  <groupId>org.apache.wayang</groupId>\n",
    "  <artifactId>wayang-core</artifactId>\n",
    "  <version>0.7.1</version>\n",
    "</dependency>\n",
    "```\n",
    "\n",
    "In this example we will use the second option to import from the pom file"
   ]
  },
  {
   "cell_type": "code",
   "execution_count": 1,
   "id": "8a6e5d7a-91ad-4d02-8b2c-8b5a49e24157",
   "metadata": {},
   "outputs": [],
   "source": [
    "%%loadFromPOM\n",
    "\n",
    "<dependency>\n",
    "  <groupId>org.apache.wayang</groupId>\n",
    "  <artifactId>wayang-core</artifactId>\n",
    "  <version>0.7.1</version>\n",
    "</dependency>\n",
    "<dependency>\n",
    "  <groupId>org.apache.wayang</groupId>\n",
    "  <artifactId>wayang-basic</artifactId>\n",
    "  <version>0.7.1</version>\n",
    "</dependency>\n",
    "<dependency>\n",
    "  <groupId>org.apache.wayang</groupId>\n",
    "  <artifactId>wayang-java</artifactId>\n",
    "  <version>0.7.1</version>\n",
    "</dependency>\n",
    "<dependency>\n",
    "  <groupId>org.apache.wayang</groupId>\n",
    "  <artifactId>wayang-api-scala-java_2.12</artifactId>\n",
    "  <version>0.7.1</version>\n",
    "</dependency>\n",
    "<dependency>\n",
    "  <groupId>org.scala-lang</groupId>\n",
    "  <artifactId>scala-library</artifactId>\n",
    "  <version>2.12.12</version>\n",
    "</dependency>\n",
    "<dependency>\n",
    "  <groupId>org.apache.hadoop</groupId>\n",
    "  <artifactId>hadoop-common</artifactId>\n",
    "  <version>2.8.5</version>\n",
    "</dependency>"
   ]
  },
  {
   "cell_type": "code",
   "execution_count": 2,
   "id": "c11a9f88-4bc1-45e9-ab52-2c7392cdf939",
   "metadata": {},
   "outputs": [],
   "source": [
    "import org.apache.wayang.api.JavaPlanBuilder;\n",
    "import org.apache.wayang.basic.data.Tuple2;\n",
    "import org.apache.wayang.core.api.WayangContext;\n",
    "import org.apache.wayang.java.Java;\n",
    "import java.util.Collection;\n",
    "import java.util.Arrays;\n",
    "\n",
    "\n",
    "public class WordCount {\n",
    "    \n",
    "    public Collection<Tuple2<String, Long>> run(String inputPath){\n",
    "        WayangContext wayangContext = new WayangContext();\n",
    "        wayangContext.withPlugin(Java.basicPlugin());\n",
    "    \n",
    "        JavaPlanBuilder planBuilder = new JavaPlanBuilder(wayangContext);\n",
    "        \n",
    "        return planBuilder\n",
    "            .readTextFile(inputPath)\n",
    "            .flatMap( line ->Arrays.asList(line.split(\"\\\\W+\")) )\n",
    "            .filter( word -> !word.isEmpty() )\n",
    "            .map( word -> new Tuple2<>(word, 1L) )\n",
    "            .reduceByKey(\n",
    "                tuple -> tuple.getField0(),\n",
    "                (t1, t2) -> new Tuple2<>(t1.getField0(), t1.getField1() + t2.getField1())\n",
    "            )\n",
    "            .collect()\n",
    "        ; \n",
    "    }\n",
    "}"
   ]
  },
  {
   "cell_type": "code",
   "execution_count": 3,
   "id": "b216a282-12f5-4a9b-b429-bfc22d54d2a2",
   "metadata": {},
   "outputs": [
    {
     "data": {
      "text/plain": [
       "[(tears, 1), (scheme, 1), (bells, 1), (father, 1), (why, 1), (body, 1), (upon, 1), (parturition, 1), (boar, 1), (currents, 1), (that, 3), (not, 2), (his, 1), (and, 5), (said, 1), (you, 1), (hours, 1), (scaling, 1), (living, 1), (qu, 1), (this, 3), (them, 1), (entered, 1), (strangers, 1), (an, 1), (the, 3), (artificial, 1), (what, 1), (well, 1), (to, 3), (he, 1), (wind, 1)]"
      ]
     },
     "execution_count": 3,
     "metadata": {},
     "output_type": "execute_result"
    }
   ],
   "source": [
    "new WordCount().run(new File(\"book.txt\").toURI().toString())"
   ]
  }
 ],
 "metadata": {
  "kernelspec": {
   "display_name": "Java",
   "language": "java",
   "name": "java"
  },
  "language_info": {
   "codemirror_mode": "java",
   "file_extension": ".jshell",
   "mimetype": "text/x-java-source",
   "name": "Java",
   "pygments_lexer": "java",
   "version": "11.0.21+9-LTS"
  }
 },
 "nbformat": 4,
 "nbformat_minor": 5
}
