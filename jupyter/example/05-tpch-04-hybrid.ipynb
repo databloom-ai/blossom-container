{
 "cells": [
  {
   "cell_type": "markdown",
   "metadata": {},
   "source": [
    "# TPCH Hybrid Query 3 Example\n",
    "\n",
    "In this TPCH Hybrid Query 3 Example our goal is:\n",
    "\n",
    "&emsp; Explore how Wayang supports the execution of queries over multiple data stores systematically\n",
    "- Wayang works with data produced by different sources\n",
    "- Wayang is able manipulate and integrate data from different formats"
   ]
  },
  {
   "cell_type": "markdown",
   "metadata": {},
   "source": [
    "---\n",
    "\n",
    "## Preparing dependancies\n"
   ]
  },
  {
   "cell_type": "markdown",
   "metadata": {},
   "source": [
    "<!--  Importing the needs libraries for the exections, this are comming from the maven instalation perfomed in the step 0 -->\n",
    "\n",
    "<!-- > This step imports the necessary libraries for subsequent program executions.\n",
    "All these packages come from the previous Maven Instalation -->\n",
    "\n",
    "This step imports the required modules to execute the code. All these packages come from the previous Maven Instalation\n",
    "\n",
    "The imported libraries are:\n",
    "\n",
    "Module | Java's | Scala's | Description\n",
    ":----- | -------------: | --------------: | :----------\n",
    "wayang-core | 8, 11 | 2.11, 2.12 | provides core data structures and the optimizer (required)\n",
    "wayang-basic | 8, 11 | 2.11, 2.12 | provides common operators and data types for your apps (recommended)\n",
    "wayang-api-scala-java | 8, 11 | 2.11, 2.12 | provides an easy-to-use Scala and Java API to assemble wayang plans (recommended)\n",
    "wayang-java | 8, 11 | 2.11, 2.12 | adapters for [Java Stream](https://docs.oracle.com/javase/8/docs/api/java/util/stream/Stream.html) processing platforms\n",
    "wayang-spark | 8, 11 | 2.11, 2.12 | adapters for [Apache Spark](https://spark.apache.org) processing platforms\n",
    "wayang-flink | 8, 11 | 2.11, 2.12 | adapters for [Apache Flink](https://flink.apache.org) processing platforms\n",
    "hadoop-common | 8,11 | - | Hadoop-commons is required because the lack of the Environment Variable **HADOOP_HOME**\n"
   ]
  },
  {
   "cell_type": "code",
   "execution_count": 1,
   "metadata": {},
   "outputs": [
    {
     "data": {
      "text/plain": [
       "\u001b[32mimport \u001b[39m\u001b[36m$ivy.$                                                              \n",
       "\u001b[39m\n",
       "\u001b[32mimport \u001b[39m\u001b[36m$ivy.$                                                   \n",
       "\u001b[39m\n",
       "\u001b[32mimport \u001b[39m\u001b[36m$ivy.$                                    \n",
       "\u001b[39m\n",
       "\u001b[32mimport \u001b[39m\u001b[36m$ivy.$                                     \n",
       "\u001b[39m\n",
       "\u001b[32mimport \u001b[39m\u001b[36m$ivy.$                                    \n",
       "\u001b[39m\n",
       "\u001b[32mimport \u001b[39m\u001b[36m$ivy.$                                                   \n",
       "\u001b[39m\n",
       "\u001b[32mimport \u001b[39m\u001b[36m$ivy.$                                              \n",
       "\u001b[39m\n",
       "\u001b[32mimport \u001b[39m\u001b[36m$ivy.$                                      \u001b[39m"
      ]
     },
     "execution_count": 1,
     "metadata": {},
     "output_type": "execute_result"
    }
   ],
   "source": [
    "/* Import Dependencies */\n",
    "import $ivy.`com.fasterxml.jackson.module:jackson-module-scala_2.12:2.10.2`\n",
    "import $ivy.`com.fasterxml.jackson.core:jackson-databind:2.10.2`\n",
    "import $ivy.`org.apache.wayang:wayang-core:0.7.1`\n",
    "import $ivy.`org.apache.wayang:wayang-basic:0.7.1`\n",
    "import $ivy.`org.apache.wayang:wayang-java:0.7.1`\n",
    "import $ivy.`org.apache.wayang:wayang-api-scala-java_2.12:0.7.1`\n",
    "import $ivy.`org.apache.wayang:wayang-benchmark_2.12:0.7.1`\n",
    "import $ivy.`org.apache.hadoop:hadoop-common:2.8.5`"
   ]
  },
  {
   "cell_type": "code",
   "execution_count": 2,
   "metadata": {},
   "outputs": [
    {
     "data": {
      "text/plain": [
       "\u001b[32mimport \u001b[39m\u001b[36morg.apache.wayang.api._\n",
       "\u001b[39m\n",
       "\u001b[32mimport \u001b[39m\u001b[36morg.apache.wayang.core.api.{Configuration, WayangContext}\n",
       "\u001b[39m\n",
       "\u001b[32mimport \u001b[39m\u001b[36morg.apache.wayang.java.Java\n",
       "\u001b[39m\n",
       "\u001b[32mimport \u001b[39m\u001b[36morg.apache.wayang.apps.tpch.CsvUtils\n",
       "\u001b[39m\n",
       "\u001b[32mimport \u001b[39m\u001b[36morg.apache.wayang.apps.tpch.data.{Customer, LineItem, Order}\n",
       "\u001b[39m\n",
       "\u001b[32mimport \u001b[39m\u001b[36morg.apache.wayang.postgres.Postgres\n",
       "\u001b[39m\n",
       "\u001b[32mimport \u001b[39m\u001b[36morg.apache.wayang.postgres.operators.PostgresTableSource\n",
       "\u001b[39m\n",
       "\u001b[32mimport \u001b[39m\u001b[36mjava.io.File;\u001b[39m"
      ]
     },
     "execution_count": 2,
     "metadata": {},
     "output_type": "execute_result"
    }
   ],
   "source": [
    "/* Include required classes */\n",
    "import org.apache.wayang.api._\n",
    "import org.apache.wayang.core.api.{Configuration, WayangContext}\n",
    "import org.apache.wayang.java.Java\n",
    "import org.apache.wayang.apps.tpch.CsvUtils\n",
    "import org.apache.wayang.apps.tpch.data.{Customer, LineItem, Order}\n",
    "import org.apache.wayang.postgres.Postgres\n",
    "import org.apache.wayang.postgres.operators.PostgresTableSource\n",
    "import java.io.File;"
   ]
  },
  {
   "cell_type": "markdown",
   "metadata": {},
   "source": [
    "## Wayang Context \n",
    "\n",
    "Wayang Context is the entry point for users to work with Wayang. Allows to declare several execution Platforms to run the code.\n",
    "\n",
    "- The configurated property 'wayang.postgres.jdbc.url' defines the JDBC connection to Postgres instances\n",
    "\n",
    "- The object Java.basicPlugin enables to use Wayang Operators on Java Platform\n",
    "- The object Postgres.plugin enables to use Wayang Operators on Postgres Database\n",
    "\n",
    "> WayangContext also manages the Job creation and its execution as Wayang Plans"
   ]
  },
  {
   "cell_type": "code",
   "execution_count": 3,
   "metadata": {},
   "outputs": [
    {
     "data": {
      "text/plain": [
       "\u001b[36mconfiguration\u001b[39m: \u001b[32mConfiguration\u001b[39m = Configuration[(no name)]\n",
       "\u001b[36mcontext\u001b[39m: \u001b[32mWayangContext\u001b[39m = org.apache.wayang.core.api.WayangContext@34025d0a"
      ]
     },
     "execution_count": 3,
     "metadata": {},
     "output_type": "execute_result"
    }
   ],
   "source": [
    "val configuration = new Configuration\n",
    "\n",
    "/* Defines JDBC connection to Postgres */\n",
    "configuration.setProperty(\"wayang.postgres.jdbc.url\", \"jdbc:postgresql://db:5432/tpchdb?user=blossomuser&password=blossomuserpwd23y938\")\n",
    "\n",
    "/* Adds required plugins to process different data sources */\n",
    "val context = new WayangContext(configuration)\n",
    "                    .withPlugin(Java.basicPlugin)\n",
    "                    .withPlugin(Postgres.plugin)"
   ]
  },
  {
   "cell_type": "markdown",
   "metadata": {},
   "source": [
    "## Hybrid TPCH 3 Query - Multi Platform Execution\n",
    "\n",
    "- Plan Builder works as an utility to build and execute Wayang Plans \n",
    "- A Wayang Plan consists of a set of operators with dependencies between them\n",
    "- The provided logical plan is independant of any underlying platform to use\n",
    "> Wayang performs an optimization process over this Wayang plan, transforming this logical plan in a set of Physical operators to be executable by specific platforms"
   ]
  },
  {
   "cell_type": "code",
   "execution_count": 4,
   "metadata": {},
   "outputs": [
    {
     "data": {
      "text/plain": [
       "defined \u001b[32mclass\u001b[39m \u001b[36mQuery3Result\u001b[39m\n",
       "defined \u001b[32mfunction\u001b[39m \u001b[36mtpch3hybrid\u001b[39m"
      ]
     },
     "execution_count": 4,
     "metadata": {},
     "output_type": "execute_result"
    }
   ],
   "source": [
    "/* Results format */\n",
    "case class Query3Result(orderKey: Long, var revenue: Double, orderDate: Int, shipPriority: Int)\n",
    "\n",
    "/* Query to be executed */\n",
    "def tpch3hybrid(context: WayangContext) = {\n",
    "    \n",
    "    /* Setting TPCH3 query parameters */\n",
    "    val segment: String = \"BUILDING\"\n",
    "    val _segment = segment\n",
    "    val date: String = \"1995-03-15\"\n",
    "    val _date = CsvUtils.parseDate(date)\n",
    "    \n",
    "    /* Tables/Tuples fetching functions */\n",
    "    val createTableSource = (table: String, columns: Seq[String]) => new PostgresTableSource(table, columns: _*)\n",
    "    def schemaObj = Map(\"CUSTOMER\" -> \"customer\", \"ORDERS\" -> \"orders\", \"LINEITEMS\" -> \"lineitems\")\n",
    "    def withSchema(table: String) = schemaObj match {\n",
    "      case null => table\n",
    "      case str => s\"$str.$table\"\n",
    "    }\n",
    "    \n",
    "    /* Builder to prepare and execute the plan */\n",
    "    val planBuilder = new PlanBuilder(context)\n",
    "    \n",
    "    \n",
    "    /* From Postgres Table 'CUSTOMER' read, filter, and project the customer data */\n",
    "    val customerKeys = planBuilder\n",
    "      .readTable(createTableSource(schemaObj(\"CUSTOMER\"), Customer.fields))\n",
    "      .withName(\"Load CUSTOMER table\")\n",
    "    \n",
    "      .filter(_.getString(6) == _segment, sqlUdf = s\"c_mktsegment LIKE '$segment%'\", selectivity = .25)\n",
    "      .withName(\"Filter customers\")\n",
    "\n",
    "      .projectRecords(Seq(\"c_custkey\"))\n",
    "      .withName(\"Project customers\")\n",
    "\n",
    "      .map(_.getLong(0))\n",
    "      .withName(\"Extract customer ID\")\n",
    "    \n",
    "    \n",
    "    /* From Postgres Table 'ORDERS' read, filter, and project the order data */\n",
    "    val orders = planBuilder\n",
    "      .load(createTableSource(schemaObj(\"ORDERS\"), Order.fields))\n",
    "      .withName(\"Load ORDERS table\")\n",
    "\n",
    "      .filter(t => CsvUtils.parseDate(t.getString(4)) > _date, sqlUdf = s\"o_orderdate < date('$date')\")\n",
    "      .withName(\"Filter orders\")\n",
    "\n",
    "      .projectRecords(Seq(\"o_orderkey\", \"o_custkey\", \"o_orderdate\", \"o_shippriority\"))\n",
    "      .withName(\"Project orders\")\n",
    "\n",
    "      .map(order => (order.getLong(0), // orderKey\n",
    "        order.getLong(1), // custKey\n",
    "        CsvUtils.parseDate(order.getString(2)), // orderDate\n",
    "        order.getInt(3)) // shipPriority\n",
    "      )\n",
    "      .withName(\"Unpack orders\")\n",
    "\n",
    "    \n",
    "    /* Register Line Item input file */\n",
    "    val lineitemFile = new File(\"files/lineitem.tbl\").toURI().toString()\n",
    "\n",
    "    /* From Text File 'lineitem.tbl' read, filter, and project the line item data. */\n",
    "    val lineItems = planBuilder\n",
    "      .readTextFile(lineitemFile)\n",
    "      .withName(\"Read line items\")\n",
    "      .map(LineItem.parseCsv)\n",
    "      .withName(\"Parse line items\")\n",
    "\n",
    "      .filter(_.shipDate > _date)\n",
    "      .withName(\"Filter line items\")\n",
    "\n",
    "      .map(li => (li.orderKey, li.extendedPrice * (1 - li.discount)))\n",
    "      .withName(\"Project line items\")\n",
    "\n",
    "    \n",
    "    /* Join and aggregate the different datasets. */\n",
    "    customerKeys\n",
    "      .join[(Long, Long, Int, Int), Long](identity, orders, _._2)\n",
    "      .withName(\"Join customers with orders\")\n",
    "      .map(_.field1) // (orderKey, custKey, orderDate, shipPriority)\n",
    "      .withName(\"Project customer-order join product\")\n",
    "\n",
    "      .join[(Long, Double), Long](_._1, lineItems, _._1)\n",
    "      .withName(\"Join CO with line items\")\n",
    "      .map(coli => Query3Result(\n",
    "        orderKey = coli.field1._1,\n",
    "        revenue = coli.field1._2,\n",
    "        orderDate = coli.field0._3,\n",
    "        shipPriority = coli.field0._4\n",
    "      ))\n",
    "      .withName(\"Project CO-line-item join product\")\n",
    "\n",
    "      .reduceByKey(\n",
    "        t => (t.orderKey, t.orderDate, t.shipPriority),\n",
    "        (t1, t2) => {\n",
    "          t1.revenue += t2.revenue;\n",
    "          t2\n",
    "        }\n",
    "      )\n",
    "      .withName(\"Aggregate revenue\")\n",
    "      .collect()\n",
    "  \n",
    "}"
   ]
  },
  {
   "cell_type": "code",
   "execution_count": 5,
   "metadata": {},
   "outputs": [
    {
     "data": {
      "text/html": [
       "<div class=\"jp-RenderedText\">\n",
       "<pre><code><span style=\"color: rgb(0, 187, 187)\"><span class=\"ansi-cyan-fg\">result</span></span>: <span style=\"color: rgb(0, 187, 0)\"><span class=\"ansi-green-fg\">Iterable</span></span>[<span style=\"color: rgb(0, 187, 0)\"><span class=\"ansi-green-fg\">Query3Result</span></span>] = <span style=\"color: yellow\"><span class=\"ansi-yellow-fg\">Buffer</span></span>(\n",
       "  <span style=\"color: yellow\"><span class=\"ansi-yellow-fg\">Query3Result</span></span>(<span style=\"color: rgb(0, 187, 0)\"><span class=\"ansi-green-fg\">246182L</span></span>, <span style=\"color: rgb(0, 187, 0)\"><span class=\"ansi-green-fg\">52656.786</span></span>, <span style=\"color: rgb(0, 187, 0)\"><span class=\"ansi-green-fg\">728253</span></span>, <span style=\"color: rgb(0, 187, 0)\"><span class=\"ansi-green-fg\">0</span></span>),\n",
       "  <span style=\"color: yellow\"><span class=\"ansi-yellow-fg\">Query3Result</span></span>(<span style=\"color: rgb(0, 187, 0)\"><span class=\"ansi-green-fg\">405063L</span></span>, <span style=\"color: rgb(0, 187, 0)\"><span class=\"ansi-green-fg\">69535.032</span></span>, <span style=\"color: rgb(0, 187, 0)\"><span class=\"ansi-green-fg\">728268</span></span>, <span style=\"color: rgb(0, 187, 0)\"><span class=\"ansi-green-fg\">0</span></span>),\n",
       "  <span style=\"color: yellow\"><span class=\"ansi-yellow-fg\">Query3Result</span></span>(<span style=\"color: rgb(0, 187, 0)\"><span class=\"ansi-green-fg\">396804L</span></span>, <span style=\"color: rgb(0, 187, 0)\"><span class=\"ansi-green-fg\">58591.5825</span></span>, <span style=\"color: rgb(0, 187, 0)\"><span class=\"ansi-green-fg\">728240</span></span>, <span style=\"color: rgb(0, 187, 0)\"><span class=\"ansi-green-fg\">0</span></span>),\n",
       "  <span style=\"color: yellow\"><span class=\"ansi-yellow-fg\">Query3Result</span></span>(<span style=\"color: rgb(0, 187, 0)\"><span class=\"ansi-green-fg\">80196L</span></span>, <span style=\"color: rgb(0, 187, 0)\"><span class=\"ansi-green-fg\">13570.0404</span></span>, <span style=\"color: rgb(0, 187, 0)\"><span class=\"ansi-green-fg\">728194</span></span>, <span style=\"color: rgb(0, 187, 0)\"><span class=\"ansi-green-fg\">0</span></span>),\n",
       "  <span style=\"color: yellow\"><span class=\"ansi-yellow-fg\">Query3Result</span></span>(<span style=\"color: rgb(0, 187, 0)\"><span class=\"ansi-green-fg\">377702L</span></span>, <span style=\"color: rgb(0, 187, 0)\"><span class=\"ansi-green-fg\">6603.915499999999</span></span>, <span style=\"color: rgb(0, 187, 0)\"><span class=\"ansi-green-fg\">728247</span></span>, <span style=\"color: rgb(0, 187, 0)\"><span class=\"ansi-green-fg\">0</span></span>),\n",
       "  <span style=\"color: yellow\"><span class=\"ansi-yellow-fg\">Query3Result</span></span>(<span style=\"color: rgb(0, 187, 0)\"><span class=\"ansi-green-fg\">73863L</span></span>, <span style=\"color: rgb(0, 187, 0)\"><span class=\"ansi-green-fg\">49203.509999999995</span></span>, <span style=\"color: rgb(0, 187, 0)\"><span class=\"ansi-green-fg\">728257</span></span>, <span style=\"color: rgb(0, 187, 0)\"><span class=\"ansi-green-fg\">0</span></span>),\n",
       "  <span style=\"color: yellow\"><span class=\"ansi-yellow-fg\">Query3Result</span></span>(<span style=\"color: rgb(0, 187, 0)\"><span class=\"ansi-green-fg\">157477L</span></span>, <span style=\"color: rgb(0, 187, 0)\"><span class=\"ansi-green-fg\">5945.3496</span></span>, <span style=\"color: rgb(0, 187, 0)\"><span class=\"ansi-green-fg\">728258</span></span>, <span style=\"color: rgb(0, 187, 0)\"><span class=\"ansi-green-fg\">0</span></span>),\n",
       "  <span style=\"color: yellow\"><span class=\"ansi-yellow-fg\">Query3Result</span></span>(<span style=\"color: rgb(0, 187, 0)\"><span class=\"ansi-green-fg\">410118L</span></span>, <span style=\"color: rgb(0, 187, 0)\"><span class=\"ansi-green-fg\">65916.76000000001</span></span>, <span style=\"color: rgb(0, 187, 0)\"><span class=\"ansi-green-fg\">728248</span></span>, <span style=\"color: rgb(0, 187, 0)\"><span class=\"ansi-green-fg\">0</span></span>),\n",
       "  <span style=\"color: yellow\"><span class=\"ansi-yellow-fg\">Query3Result</span></span>(<span style=\"color: rgb(0, 187, 0)\"><span class=\"ansi-green-fg\">575175L</span></span>, <span style=\"color: rgb(0, 187, 0)\"><span class=\"ansi-green-fg\">22988.1504</span></span>, <span style=\"color: rgb(0, 187, 0)\"><span class=\"ansi-green-fg\">728251</span></span>, <span style=\"color: rgb(0, 187, 0)\"><span class=\"ansi-green-fg\">0</span></span>),\n",
       "  <span style=\"color: yellow\"><span class=\"ansi-yellow-fg\">Query3Result</span></span>(<span style=\"color: rgb(0, 187, 0)\"><span class=\"ansi-green-fg\">41926L</span></span>, <span style=\"color: rgb(0, 187, 0)\"><span class=\"ansi-green-fg\">28517.213999999996</span></span>, <span style=\"color: rgb(0, 187, 0)\"><span class=\"ansi-green-fg\">728241</span></span>, <span style=\"color: rgb(0, 187, 0)\"><span class=\"ansi-green-fg\">0</span></span>),\n",
       "  <span style=\"color: yellow\"><span class=\"ansi-yellow-fg\">Query3Result</span></span>(<span style=\"color: rgb(0, 187, 0)\"><span class=\"ansi-green-fg\">349602L</span></span>, <span style=\"color: rgb(0, 187, 0)\"><span class=\"ansi-green-fg\">8572.127999999999</span></span>, <span style=\"color: rgb(0, 187, 0)\"><span class=\"ansi-green-fg\">728186</span></span>, <span style=\"color: rgb(0, 187, 0)\"><span class=\"ansi-green-fg\">0</span></span>),\n",
       "  <span style=\"color: yellow\"><span class=\"ansi-yellow-fg\">Query3Result</span></span>(<span style=\"color: rgb(0, 187, 0)\"><span class=\"ansi-green-fg\">258373L</span></span>, <span style=\"color: rgb(0, 187, 0)\"><span class=\"ansi-green-fg\">39775.26</span></span>, <span style=\"color: rgb(0, 187, 0)\"><span class=\"ansi-green-fg\">728221</span></span>, <span style=\"color: rgb(0, 187, 0)\"><span class=\"ansi-green-fg\">0</span></span>),\n",
       "  <span style=\"color: yellow\"><span class=\"ansi-yellow-fg\">Query3Result</span></span>(<span style=\"color: rgb(0, 187, 0)\"><span class=\"ansi-green-fg\">90113L</span></span>, <span style=\"color: rgb(0, 187, 0)\"><span class=\"ansi-green-fg\">18927.1929</span></span>, <span style=\"color: rgb(0, 187, 0)\"><span class=\"ansi-green-fg\">728199</span></span>, <span style=\"color: rgb(0, 187, 0)\"><span class=\"ansi-green-fg\">0</span></span>),\n",
       "  <span style=\"color: yellow\"><span class=\"ansi-yellow-fg\">Query3Result</span></span>(<span style=\"color: rgb(0, 187, 0)\"><span class=\"ansi-green-fg\">266598L</span></span>, <span style=\"color: rgb(0, 187, 0)\"><span class=\"ansi-green-fg\">62013.380399999995</span></span>, <span style=\"color: rgb(0, 187, 0)\"><span class=\"ansi-green-fg\">728210</span></span>, <span style=\"color: rgb(0, 187, 0)\"><span class=\"ansi-green-fg\">0</span></span>),\n",
       "  <span style=\"color: yellow\"><span class=\"ansi-yellow-fg\">Query3Result</span></span>(<span style=\"color: rgb(0, 187, 0)\"><span class=\"ansi-green-fg\">500324L</span></span>, <span style=\"color: rgb(0, 187, 0)\"><span class=\"ansi-green-fg\">27585.8688</span></span>, <span style=\"color: rgb(0, 187, 0)\"><span class=\"ansi-green-fg\">728188</span></span>, <span style=\"color: rgb(0, 187, 0)\"><span class=\"ansi-green-fg\">0</span></span>),\n",
       "  <span style=\"color: yellow\"><span class=\"ansi-yellow-fg\">Query3Result</span></span>(<span style=\"color: rgb(0, 187, 0)\"><span class=\"ansi-green-fg\">490561L</span></span>, <span style=\"color: rgb(0, 187, 0)\"><span class=\"ansi-green-fg\">28677.444799999997</span></span>, <span style=\"color: rgb(0, 187, 0)\"><span class=\"ansi-green-fg\">728241</span></span>, <span style=\"color: rgb(0, 187, 0)\"><span class=\"ansi-green-fg\">0</span></span>),\n",
       "  <span style=\"color: yellow\"><span class=\"ansi-yellow-fg\">Query3Result</span></span>(<span style=\"color: rgb(0, 187, 0)\"><span class=\"ansi-green-fg\">120903L</span></span>, <span style=\"color: rgb(0, 187, 0)\"><span class=\"ansi-green-fg\">36516.375</span></span>, <span style=\"color: rgb(0, 187, 0)\"><span class=\"ansi-green-fg\">728267</span></span>, <span style=\"color: rgb(0, 187, 0)\"><span class=\"ansi-green-fg\">0</span></span>),\n",
       "  <span style=\"color: yellow\"><span class=\"ansi-yellow-fg\">Query3Result</span></span>(<span style=\"color: rgb(0, 187, 0)\"><span class=\"ansi-green-fg\">44610L</span></span>, <span style=\"color: rgb(0, 187, 0)\"><span class=\"ansi-green-fg\">27614.131200000003</span></span>, <span style=\"color: rgb(0, 187, 0)\"><span class=\"ansi-green-fg\">728276</span></span>, <span style=\"color: rgb(0, 187, 0)\"><span class=\"ansi-green-fg\">0</span></span>),\n",
       "  <span style=\"color: yellow\"><span class=\"ansi-yellow-fg\">Query3Result</span></span>(<span style=\"color: rgb(0, 187, 0)\"><span class=\"ansi-green-fg\">109735L</span></span>, <span style=\"color: rgb(0, 187, 0)\"><span class=\"ansi-green-fg\">12898.4445</span></span>, <span style=\"color: rgb(0, 187, 0)\"><span class=\"ansi-green-fg\">728232</span></span>, <span style=\"color: rgb(0, 187, 0)\"><span class=\"ansi-green-fg\">0</span></span>),\n",
       "  <span style=\"color: yellow\"><span class=\"ansi-yellow-fg\">Query3Result</span></span>(<span style=\"color: rgb(0, 187, 0)\"><span class=\"ansi-green-fg\">595459L</span></span>, <span style=\"color: rgb(0, 187, 0)\"><span class=\"ansi-green-fg\">54673.545600000005</span></span>, <span style=\"color: rgb(0, 187, 0)\"><span class=\"ansi-green-fg\">728279</span></span>, <span style=\"color: rgb(0, 187, 0)\"><span class=\"ansi-green-fg\">0</span></span>),\n",
       "  <span style=\"color: yellow\"><span class=\"ansi-yellow-fg\">Query3Result</span></span>(<span style=\"color: rgb(0, 187, 0)\"><span class=\"ansi-green-fg\">551462L</span></span>, <span style=\"color: rgb(0, 187, 0)\"><span class=\"ansi-green-fg\">57702.087999999996</span></span>, <span style=\"color: rgb(0, 187, 0)\"><span class=\"ansi-green-fg\">728267</span></span>, <span style=\"color: rgb(0, 187, 0)\"><span class=\"ansi-green-fg\">0</span></span>),\n",
       "  <span style=\"color: yellow\"><span class=\"ansi-yellow-fg\">Query3Result</span></span>(<span style=\"color: rgb(0, 187, 0)\"><span class=\"ansi-green-fg\">497732L</span></span>, <span style=\"color: rgb(0, 187, 0)\"><span class=\"ansi-green-fg\">40396.96799999999</span></span>, <span style=\"color: rgb(0, 187, 0)\"><span class=\"ansi-green-fg\">728216</span></span>, <span style=\"color: rgb(0, 187, 0)\"><span class=\"ansi-green-fg\">0</span></span>),\n",
       "  <span style=\"color: yellow\"><span class=\"ansi-yellow-fg\">Query3Result</span></span>(<span style=\"color: rgb(0, 187, 0)\"><span class=\"ansi-green-fg\">301378L</span></span>, <span style=\"color: rgb(0, 187, 0)\"><span class=\"ansi-green-fg\">58447.5456</span></span>, <span style=\"color: rgb(0, 187, 0)\"><span class=\"ansi-green-fg\">728200</span></span>, <span style=\"color: rgb(0, 187, 0)\"><span class=\"ansi-green-fg\">0</span></span>),\n",
       "  <span style=\"color: yellow\"><span class=\"ansi-yellow-fg\">Query3Result</span></span>(<span style=\"color: rgb(0, 187, 0)\"><span class=\"ansi-green-fg\">404646L</span></span>, <span style=\"color: rgb(0, 187, 0)\"><span class=\"ansi-green-fg\">21569.584000000003</span></span>, <span style=\"color: rgb(0, 187, 0)\"><span class=\"ansi-green-fg\">728167</span></span>, <span style=\"color: rgb(0, 187, 0)\"><span class=\"ansi-green-fg\">0</span></span>),\n",
       "  <span style=\"color: yellow\"><span class=\"ansi-yellow-fg\">Query3Result</span></span>(<span style=\"color: rgb(0, 187, 0)\"><span class=\"ansi-green-fg\">372386L</span></span>, <span style=\"color: rgb(0, 187, 0)\"><span class=\"ansi-green-fg\">52372.7568</span></span>, <span style=\"color: rgb(0, 187, 0)\"><span class=\"ansi-green-fg\">728232</span></span>, <span style=\"color: rgb(0, 187, 0)\"><span class=\"ansi-green-fg\">0</span></span>),\n",
       "  <span style=\"color: yellow\"><span class=\"ansi-yellow-fg\">Query3Result</span></span>(<span style=\"color: rgb(0, 187, 0)\"><span class=\"ansi-green-fg\">178311L</span></span>, <span style=\"color: rgb(0, 187, 0)\"><span class=\"ansi-green-fg\">41991.443999999996</span></span>, <span style=\"color: rgb(0, 187, 0)\"><span class=\"ansi-green-fg\">728239</span></span>, <span style=\"color: rgb(0, 187, 0)\"><span class=\"ansi-green-fg\">0</span></span>),\n",
       "  <span style=\"color: yellow\"><span class=\"ansi-yellow-fg\">Query3Result</span></span>(<span style=\"color: rgb(0, 187, 0)\"><span class=\"ansi-green-fg\">92419L</span></span>, <span style=\"color: rgb(0, 187, 0)\"><span class=\"ansi-green-fg\">26506.116</span></span>, <span style=\"color: rgb(0, 187, 0)\"><span class=\"ansi-green-fg\">728239</span></span>, <span style=\"color: rgb(0, 187, 0)\"><span class=\"ansi-green-fg\">0</span></span>),\n",
       "  <span style=\"color: yellow\"><span class=\"ansi-yellow-fg\">Query3Result</span></span>(<span style=\"color: rgb(0, 187, 0)\"><span class=\"ansi-green-fg\">60929L</span></span>, <span style=\"color: rgb(0, 187, 0)\"><span class=\"ansi-green-fg\">39595.528</span></span>, <span style=\"color: rgb(0, 187, 0)\"><span class=\"ansi-green-fg\">728188</span></span>, <span style=\"color: rgb(0, 187, 0)\"><span class=\"ansi-green-fg\">0</span></span>),\n",
       "  <span style=\"color: yellow\"><span class=\"ansi-yellow-fg\">Query3Result</span></span>(<span style=\"color: rgb(0, 187, 0)\"><span class=\"ansi-green-fg\">195746L</span></span>, <span style=\"color: rgb(0, 187, 0)\"><span class=\"ansi-green-fg\">3848.2</span></span>, <span style=\"color: rgb(0, 187, 0)\"><span class=\"ansi-green-fg\">728217</span></span>, <span style=\"color: rgb(0, 187, 0)\"><span class=\"ansi-green-fg\">0</span></span>),\n",
       "  <span style=\"color: yellow\"><span class=\"ansi-yellow-fg\">Query3Result</span></span>(<span style=\"color: rgb(0, 187, 0)\"><span class=\"ansi-green-fg\">164576L</span></span>, <span style=\"color: rgb(0, 187, 0)\"><span class=\"ansi-green-fg\">64966.137599999995</span></span>, <span style=\"color: rgb(0, 187, 0)\"><span class=\"ansi-green-fg\">728275</span></span>, <span style=\"color: rgb(0, 187, 0)\"><span class=\"ansi-green-fg\">0</span></span>),\n",
       "  <span style=\"color: yellow\"><span class=\"ansi-yellow-fg\">Query3Result</span></span>(<span style=\"color: rgb(0, 187, 0)\"><span class=\"ansi-green-fg\">455493L</span></span>, <span style=\"color: rgb(0, 187, 0)\"><span class=\"ansi-green-fg\">74634.2325</span></span>, <span style=\"color: rgb(0, 187, 0)\"><span class=\"ansi-green-fg\">728277</span></span>, <span style=\"color: rgb(0, 187, 0)\"><span class=\"ansi-green-fg\">0</span></span>),\n",
       "  <span style=\"color: yellow\"><span class=\"ansi-yellow-fg\">Query3Result</span></span>(<span style=\"color: rgb(0, 187, 0)\"><span class=\"ansi-green-fg\">442916L</span></span>, <span style=\"color: rgb(0, 187, 0)\"><span class=\"ansi-green-fg\">6570.7686</span></span>, <span style=\"color: rgb(0, 187, 0)\"><span class=\"ansi-green-fg\">728171</span></span>, <span style=\"color: rgb(0, 187, 0)\"><span class=\"ansi-green-fg\">0</span></span>),\n",
       "  <span style=\"color: yellow\"><span class=\"ansi-yellow-fg\">Query3Result</span></span>(<span style=\"color: rgb(0, 187, 0)\"><span class=\"ansi-green-fg\">440803L</span></span>, <span style=\"color: rgb(0, 187, 0)\"><span class=\"ansi-green-fg\">38866.8357</span></span>, <span style=\"color: rgb(0, 187, 0)\"><span class=\"ansi-green-fg\">728250</span></span>, <span style=\"color: rgb(0, 187, 0)\"><span class=\"ansi-green-fg\">0</span></span>),\n",
       "  <span style=\"color: yellow\"><span class=\"ansi-yellow-fg\">Query3Result</span></span>(<span style=\"color: rgb(0, 187, 0)\"><span class=\"ansi-green-fg\">431555L</span></span>, <span style=\"color: rgb(0, 187, 0)\"><span class=\"ansi-green-fg\">48450.87</span></span>, <span style=\"color: rgb(0, 187, 0)\"><span class=\"ansi-green-fg\">728226</span></span>, <span style=\"color: rgb(0, 187, 0)\"><span class=\"ansi-green-fg\">0</span></span>),\n",
       "  <span style=\"color: yellow\"><span class=\"ansi-yellow-fg\">Query3Result</span></span>(<span style=\"color: rgb(0, 187, 0)\"><span class=\"ansi-green-fg\">25188L</span></span>, <span style=\"color: rgb(0, 187, 0)\"><span class=\"ansi-green-fg\">50296.032</span></span>, <span style=\"color: rgb(0, 187, 0)\"><span class=\"ansi-green-fg\">728209</span></span>, <span style=\"color: rgb(0, 187, 0)\"><span class=\"ansi-green-fg\">0</span></span>),\n",
       "  <span style=\"color: yellow\"><span class=\"ansi-yellow-fg\">Query3Result</span></span>(<span style=\"color: rgb(0, 187, 0)\"><span class=\"ansi-green-fg\">565315L</span></span>, <span style=\"color: rgb(0, 187, 0)\"><span class=\"ansi-green-fg\">10494.143999999998</span></span>, <span style=\"color: rgb(0, 187, 0)\"><span class=\"ansi-green-fg\">728181</span></span>, <span style=\"color: rgb(0, 187, 0)\"><span class=\"ansi-green-fg\">0</span></span>),\n",
       "  <span style=\"color: yellow\"><span class=\"ansi-yellow-fg\">Query3Result</span></span>(<span style=\"color: rgb(0, 187, 0)\"><span class=\"ansi-green-fg\">207847L</span></span>, <span style=\"color: rgb(0, 187, 0)\"><span class=\"ansi-green-fg\">838.809</span></span>, <span style=\"color: rgb(0, 187, 0)\"><span class=\"ansi-green-fg\">728236</span></span>, <span style=\"color: rgb(0, 187, 0)\"><span class=\"ansi-green-fg\">0</span></span>),\n",
       "  <span style=\"color: yellow\"><span class=\"ansi-yellow-fg\">Query3Result</span></span>(<span style=\"color: rgb(0, 187, 0)\"><span class=\"ansi-green-fg\">191523L</span></span>, <span style=\"color: rgb(0, 187, 0)\"><span class=\"ansi-green-fg\">28558.207499999997</span></span>, <span style=\"color: rgb(0, 187, 0)\"><span class=\"ansi-green-fg\">728255</span></span>, <span style=\"color: rgb(0, 187, 0)\"><span class=\"ansi-green-fg\">0</span></span>),\n",
       "...</code></pre>\n",
       "</div>"
      ],
      "text/plain": [
       "\u001b[36mresult\u001b[39m: \u001b[32mIterable\u001b[39m[\u001b[32mQuery3Result\u001b[39m] = \u001b[33mBuffer\u001b[39m(\n",
       "  \u001b[33mQuery3Result\u001b[39m(\u001b[32m246182L\u001b[39m, \u001b[32m52656.786\u001b[39m, \u001b[32m728253\u001b[39m, \u001b[32m0\u001b[39m),\n",
       "  \u001b[33mQuery3Result\u001b[39m(\u001b[32m405063L\u001b[39m, \u001b[32m69535.032\u001b[39m, \u001b[32m728268\u001b[39m, \u001b[32m0\u001b[39m),\n",
       "  \u001b[33mQuery3Result\u001b[39m(\u001b[32m396804L\u001b[39m, \u001b[32m58591.5825\u001b[39m, \u001b[32m728240\u001b[39m, \u001b[32m0\u001b[39m),\n",
       "  \u001b[33mQuery3Result\u001b[39m(\u001b[32m80196L\u001b[39m, \u001b[32m13570.0404\u001b[39m, \u001b[32m728194\u001b[39m, \u001b[32m0\u001b[39m),\n",
       "  \u001b[33mQuery3Result\u001b[39m(\u001b[32m377702L\u001b[39m, \u001b[32m6603.915499999999\u001b[39m, \u001b[32m728247\u001b[39m, \u001b[32m0\u001b[39m),\n",
       "  \u001b[33mQuery3Result\u001b[39m(\u001b[32m73863L\u001b[39m, \u001b[32m49203.509999999995\u001b[39m, \u001b[32m728257\u001b[39m, \u001b[32m0\u001b[39m),\n",
       "  \u001b[33mQuery3Result\u001b[39m(\u001b[32m157477L\u001b[39m, \u001b[32m5945.3496\u001b[39m, \u001b[32m728258\u001b[39m, \u001b[32m0\u001b[39m),\n",
       "  \u001b[33mQuery3Result\u001b[39m(\u001b[32m410118L\u001b[39m, \u001b[32m65916.76000000001\u001b[39m, \u001b[32m728248\u001b[39m, \u001b[32m0\u001b[39m),\n",
       "  \u001b[33mQuery3Result\u001b[39m(\u001b[32m575175L\u001b[39m, \u001b[32m22988.1504\u001b[39m, \u001b[32m728251\u001b[39m, \u001b[32m0\u001b[39m),\n",
       "  \u001b[33mQuery3Result\u001b[39m(\u001b[32m41926L\u001b[39m, \u001b[32m28517.213999999996\u001b[39m, \u001b[32m728241\u001b[39m, \u001b[32m0\u001b[39m),\n",
       "  \u001b[33mQuery3Result\u001b[39m(\u001b[32m349602L\u001b[39m, \u001b[32m8572.127999999999\u001b[39m, \u001b[32m728186\u001b[39m, \u001b[32m0\u001b[39m),\n",
       "  \u001b[33mQuery3Result\u001b[39m(\u001b[32m258373L\u001b[39m, \u001b[32m39775.26\u001b[39m, \u001b[32m728221\u001b[39m, \u001b[32m0\u001b[39m),\n",
       "  \u001b[33mQuery3Result\u001b[39m(\u001b[32m90113L\u001b[39m, \u001b[32m18927.1929\u001b[39m, \u001b[32m728199\u001b[39m, \u001b[32m0\u001b[39m),\n",
       "  \u001b[33mQuery3Result\u001b[39m(\u001b[32m266598L\u001b[39m, \u001b[32m62013.380399999995\u001b[39m, \u001b[32m728210\u001b[39m, \u001b[32m0\u001b[39m),\n",
       "  \u001b[33mQuery3Result\u001b[39m(\u001b[32m500324L\u001b[39m, \u001b[32m27585.8688\u001b[39m, \u001b[32m728188\u001b[39m, \u001b[32m0\u001b[39m),\n",
       "  \u001b[33mQuery3Result\u001b[39m(\u001b[32m490561L\u001b[39m, \u001b[32m28677.444799999997\u001b[39m, \u001b[32m728241\u001b[39m, \u001b[32m0\u001b[39m),\n",
       "  \u001b[33mQuery3Result\u001b[39m(\u001b[32m120903L\u001b[39m, \u001b[32m36516.375\u001b[39m, \u001b[32m728267\u001b[39m, \u001b[32m0\u001b[39m),\n",
       "  \u001b[33mQuery3Result\u001b[39m(\u001b[32m44610L\u001b[39m, \u001b[32m27614.131200000003\u001b[39m, \u001b[32m728276\u001b[39m, \u001b[32m0\u001b[39m),\n",
       "  \u001b[33mQuery3Result\u001b[39m(\u001b[32m109735L\u001b[39m, \u001b[32m12898.4445\u001b[39m, \u001b[32m728232\u001b[39m, \u001b[32m0\u001b[39m),\n",
       "  \u001b[33mQuery3Result\u001b[39m(\u001b[32m595459L\u001b[39m, \u001b[32m54673.545600000005\u001b[39m, \u001b[32m728279\u001b[39m, \u001b[32m0\u001b[39m),\n",
       "  \u001b[33mQuery3Result\u001b[39m(\u001b[32m551462L\u001b[39m, \u001b[32m57702.087999999996\u001b[39m, \u001b[32m728267\u001b[39m, \u001b[32m0\u001b[39m),\n",
       "  \u001b[33mQuery3Result\u001b[39m(\u001b[32m497732L\u001b[39m, \u001b[32m40396.96799999999\u001b[39m, \u001b[32m728216\u001b[39m, \u001b[32m0\u001b[39m),\n",
       "  \u001b[33mQuery3Result\u001b[39m(\u001b[32m301378L\u001b[39m, \u001b[32m58447.5456\u001b[39m, \u001b[32m728200\u001b[39m, \u001b[32m0\u001b[39m),\n",
       "  \u001b[33mQuery3Result\u001b[39m(\u001b[32m404646L\u001b[39m, \u001b[32m21569.584000000003\u001b[39m, \u001b[32m728167\u001b[39m, \u001b[32m0\u001b[39m),\n",
       "  \u001b[33mQuery3Result\u001b[39m(\u001b[32m372386L\u001b[39m, \u001b[32m52372.7568\u001b[39m, \u001b[32m728232\u001b[39m, \u001b[32m0\u001b[39m),\n",
       "  \u001b[33mQuery3Result\u001b[39m(\u001b[32m178311L\u001b[39m, \u001b[32m41991.443999999996\u001b[39m, \u001b[32m728239\u001b[39m, \u001b[32m0\u001b[39m),\n",
       "  \u001b[33mQuery3Result\u001b[39m(\u001b[32m92419L\u001b[39m, \u001b[32m26506.116\u001b[39m, \u001b[32m728239\u001b[39m, \u001b[32m0\u001b[39m),\n",
       "  \u001b[33mQuery3Result\u001b[39m(\u001b[32m60929L\u001b[39m, \u001b[32m39595.528\u001b[39m, \u001b[32m728188\u001b[39m, \u001b[32m0\u001b[39m),\n",
       "  \u001b[33mQuery3Result\u001b[39m(\u001b[32m195746L\u001b[39m, \u001b[32m3848.2\u001b[39m, \u001b[32m728217\u001b[39m, \u001b[32m0\u001b[39m),\n",
       "  \u001b[33mQuery3Result\u001b[39m(\u001b[32m164576L\u001b[39m, \u001b[32m64966.137599999995\u001b[39m, \u001b[32m728275\u001b[39m, \u001b[32m0\u001b[39m),\n",
       "  \u001b[33mQuery3Result\u001b[39m(\u001b[32m455493L\u001b[39m, \u001b[32m74634.2325\u001b[39m, \u001b[32m728277\u001b[39m, \u001b[32m0\u001b[39m),\n",
       "  \u001b[33mQuery3Result\u001b[39m(\u001b[32m442916L\u001b[39m, \u001b[32m6570.7686\u001b[39m, \u001b[32m728171\u001b[39m, \u001b[32m0\u001b[39m),\n",
       "  \u001b[33mQuery3Result\u001b[39m(\u001b[32m440803L\u001b[39m, \u001b[32m38866.8357\u001b[39m, \u001b[32m728250\u001b[39m, \u001b[32m0\u001b[39m),\n",
       "  \u001b[33mQuery3Result\u001b[39m(\u001b[32m431555L\u001b[39m, \u001b[32m48450.87\u001b[39m, \u001b[32m728226\u001b[39m, \u001b[32m0\u001b[39m),\n",
       "  \u001b[33mQuery3Result\u001b[39m(\u001b[32m25188L\u001b[39m, \u001b[32m50296.032\u001b[39m, \u001b[32m728209\u001b[39m, \u001b[32m0\u001b[39m),\n",
       "  \u001b[33mQuery3Result\u001b[39m(\u001b[32m565315L\u001b[39m, \u001b[32m10494.143999999998\u001b[39m, \u001b[32m728181\u001b[39m, \u001b[32m0\u001b[39m),\n",
       "  \u001b[33mQuery3Result\u001b[39m(\u001b[32m207847L\u001b[39m, \u001b[32m838.809\u001b[39m, \u001b[32m728236\u001b[39m, \u001b[32m0\u001b[39m),\n",
       "  \u001b[33mQuery3Result\u001b[39m(\u001b[32m191523L\u001b[39m, \u001b[32m28558.207499999997\u001b[39m, \u001b[32m728255\u001b[39m, \u001b[32m0\u001b[39m),\n",
       "..."
      ]
     },
     "metadata": {},
     "output_type": "display_data"
    }
   ],
   "source": [
    "var result = tpch3hybrid(context)"
   ]
  }
 ],
 "metadata": {
  "kernelspec": {
   "display_name": "Scala 2.12",
   "language": "scala",
   "name": "scala212"
  },
  "language_info": {
   "codemirror_mode": "text/x-scala",
   "file_extension": ".sc",
   "mimetype": "text/x-scala",
   "name": "scala",
   "nbconvert_exporter": "script",
   "version": "2.12.12"
  }
 },
 "nbformat": 4,
 "nbformat_minor": 4
}
